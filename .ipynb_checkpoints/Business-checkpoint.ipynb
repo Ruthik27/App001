{
 "cells": [
  {
   "cell_type": "code",
   "execution_count": 1,
   "id": "e45fcea6",
   "metadata": {},
   "outputs": [],
   "source": [
    "import pandas as pd\n",
    "import numpy as np"
   ]
  },
  {
   "cell_type": "code",
   "execution_count": 32,
   "id": "cc6e85ca",
   "metadata": {},
   "outputs": [],
   "source": [
    "business = pd.read_csv(\"yelp_csv/yelp_business.csv\")"
   ]
  },
  {
   "cell_type": "code",
   "execution_count": 33,
   "id": "76c3bb49",
   "metadata": {},
   "outputs": [
    {
     "data": {
      "text/html": [
       "<div>\n",
       "<style scoped>\n",
       "    .dataframe tbody tr th:only-of-type {\n",
       "        vertical-align: middle;\n",
       "    }\n",
       "\n",
       "    .dataframe tbody tr th {\n",
       "        vertical-align: top;\n",
       "    }\n",
       "\n",
       "    .dataframe thead th {\n",
       "        text-align: right;\n",
       "    }\n",
       "</style>\n",
       "<table border=\"1\" class=\"dataframe\">\n",
       "  <thead>\n",
       "    <tr style=\"text-align: right;\">\n",
       "      <th></th>\n",
       "      <th>business_id</th>\n",
       "      <th>name</th>\n",
       "      <th>neighborhood</th>\n",
       "      <th>address</th>\n",
       "      <th>city</th>\n",
       "      <th>state</th>\n",
       "      <th>postal_code</th>\n",
       "      <th>latitude</th>\n",
       "      <th>longitude</th>\n",
       "      <th>stars</th>\n",
       "      <th>review_count</th>\n",
       "      <th>is_open</th>\n",
       "      <th>categories</th>\n",
       "    </tr>\n",
       "  </thead>\n",
       "  <tbody>\n",
       "    <tr>\n",
       "      <th>0</th>\n",
       "      <td>FYWN1wneV18bWNgQjJ2GNg</td>\n",
       "      <td>\"Dental by Design\"</td>\n",
       "      <td>NaN</td>\n",
       "      <td>\"4855 E Warner Rd, Ste B9\"</td>\n",
       "      <td>Ahwatukee</td>\n",
       "      <td>AZ</td>\n",
       "      <td>85044</td>\n",
       "      <td>33.330690</td>\n",
       "      <td>-111.978599</td>\n",
       "      <td>4.0</td>\n",
       "      <td>22</td>\n",
       "      <td>1</td>\n",
       "      <td>Dentists;General Dentistry;Health &amp; Medical;Or...</td>\n",
       "    </tr>\n",
       "    <tr>\n",
       "      <th>1</th>\n",
       "      <td>He-G7vWjzVUysIKrfNbPUQ</td>\n",
       "      <td>\"Stephen Szabo Salon\"</td>\n",
       "      <td>NaN</td>\n",
       "      <td>\"3101 Washington Rd\"</td>\n",
       "      <td>McMurray</td>\n",
       "      <td>PA</td>\n",
       "      <td>15317</td>\n",
       "      <td>40.291685</td>\n",
       "      <td>-80.104900</td>\n",
       "      <td>3.0</td>\n",
       "      <td>11</td>\n",
       "      <td>1</td>\n",
       "      <td>Hair Stylists;Hair Salons;Men's Hair Salons;Bl...</td>\n",
       "    </tr>\n",
       "    <tr>\n",
       "      <th>2</th>\n",
       "      <td>KQPW8lFf1y5BT2MxiSZ3QA</td>\n",
       "      <td>\"Western Motor Vehicle\"</td>\n",
       "      <td>NaN</td>\n",
       "      <td>\"6025 N 27th Ave, Ste 1\"</td>\n",
       "      <td>Phoenix</td>\n",
       "      <td>AZ</td>\n",
       "      <td>85017</td>\n",
       "      <td>33.524903</td>\n",
       "      <td>-112.115310</td>\n",
       "      <td>1.5</td>\n",
       "      <td>18</td>\n",
       "      <td>1</td>\n",
       "      <td>Departments of Motor Vehicles;Public Services ...</td>\n",
       "    </tr>\n",
       "    <tr>\n",
       "      <th>3</th>\n",
       "      <td>8DShNS-LuFqpEWIp0HxijA</td>\n",
       "      <td>\"Sports Authority\"</td>\n",
       "      <td>NaN</td>\n",
       "      <td>\"5000 Arizona Mills Cr, Ste 435\"</td>\n",
       "      <td>Tempe</td>\n",
       "      <td>AZ</td>\n",
       "      <td>85282</td>\n",
       "      <td>33.383147</td>\n",
       "      <td>-111.964725</td>\n",
       "      <td>3.0</td>\n",
       "      <td>9</td>\n",
       "      <td>0</td>\n",
       "      <td>Sporting Goods;Shopping</td>\n",
       "    </tr>\n",
       "    <tr>\n",
       "      <th>4</th>\n",
       "      <td>PfOCPjBrlQAnz__NXj9h_w</td>\n",
       "      <td>\"Brick House Tavern + Tap\"</td>\n",
       "      <td>NaN</td>\n",
       "      <td>\"581 Howe Ave\"</td>\n",
       "      <td>Cuyahoga Falls</td>\n",
       "      <td>OH</td>\n",
       "      <td>44221</td>\n",
       "      <td>41.119535</td>\n",
       "      <td>-81.475690</td>\n",
       "      <td>3.5</td>\n",
       "      <td>116</td>\n",
       "      <td>1</td>\n",
       "      <td>American (New);Nightlife;Bars;Sandwiches;Ameri...</td>\n",
       "    </tr>\n",
       "  </tbody>\n",
       "</table>\n",
       "</div>"
      ],
      "text/plain": [
       "              business_id                        name neighborhood  \\\n",
       "0  FYWN1wneV18bWNgQjJ2GNg          \"Dental by Design\"          NaN   \n",
       "1  He-G7vWjzVUysIKrfNbPUQ       \"Stephen Szabo Salon\"          NaN   \n",
       "2  KQPW8lFf1y5BT2MxiSZ3QA     \"Western Motor Vehicle\"          NaN   \n",
       "3  8DShNS-LuFqpEWIp0HxijA          \"Sports Authority\"          NaN   \n",
       "4  PfOCPjBrlQAnz__NXj9h_w  \"Brick House Tavern + Tap\"          NaN   \n",
       "\n",
       "                            address            city state postal_code  \\\n",
       "0        \"4855 E Warner Rd, Ste B9\"       Ahwatukee    AZ       85044   \n",
       "1              \"3101 Washington Rd\"        McMurray    PA       15317   \n",
       "2          \"6025 N 27th Ave, Ste 1\"         Phoenix    AZ       85017   \n",
       "3  \"5000 Arizona Mills Cr, Ste 435\"           Tempe    AZ       85282   \n",
       "4                    \"581 Howe Ave\"  Cuyahoga Falls    OH       44221   \n",
       "\n",
       "    latitude   longitude  stars  review_count  is_open  \\\n",
       "0  33.330690 -111.978599    4.0            22        1   \n",
       "1  40.291685  -80.104900    3.0            11        1   \n",
       "2  33.524903 -112.115310    1.5            18        1   \n",
       "3  33.383147 -111.964725    3.0             9        0   \n",
       "4  41.119535  -81.475690    3.5           116        1   \n",
       "\n",
       "                                          categories  \n",
       "0  Dentists;General Dentistry;Health & Medical;Or...  \n",
       "1  Hair Stylists;Hair Salons;Men's Hair Salons;Bl...  \n",
       "2  Departments of Motor Vehicles;Public Services ...  \n",
       "3                            Sporting Goods;Shopping  \n",
       "4  American (New);Nightlife;Bars;Sandwiches;Ameri...  "
      ]
     },
     "execution_count": 33,
     "metadata": {},
     "output_type": "execute_result"
    }
   ],
   "source": [
    "business.head()"
   ]
  },
  {
   "cell_type": "code",
   "execution_count": 34,
   "id": "cb0f18e9",
   "metadata": {},
   "outputs": [],
   "source": [
    "business.drop('neighborhood', axis = 1, inplace=True)"
   ]
  },
  {
   "cell_type": "code",
   "execution_count": 35,
   "id": "68fdac4c",
   "metadata": {},
   "outputs": [],
   "source": [
    "df = pd.DataFrame(data=business)"
   ]
  },
  {
   "cell_type": "code",
   "execution_count": 36,
   "id": "c041e8aa",
   "metadata": {},
   "outputs": [
    {
     "data": {
      "text/html": [
       "<div>\n",
       "<style scoped>\n",
       "    .dataframe tbody tr th:only-of-type {\n",
       "        vertical-align: middle;\n",
       "    }\n",
       "\n",
       "    .dataframe tbody tr th {\n",
       "        vertical-align: top;\n",
       "    }\n",
       "\n",
       "    .dataframe thead th {\n",
       "        text-align: right;\n",
       "    }\n",
       "</style>\n",
       "<table border=\"1\" class=\"dataframe\">\n",
       "  <thead>\n",
       "    <tr style=\"text-align: right;\">\n",
       "      <th></th>\n",
       "      <th>latitude</th>\n",
       "      <th>longitude</th>\n",
       "      <th>stars</th>\n",
       "      <th>review_count</th>\n",
       "      <th>is_open</th>\n",
       "    </tr>\n",
       "  </thead>\n",
       "  <tbody>\n",
       "    <tr>\n",
       "      <th>count</th>\n",
       "      <td>174566.000000</td>\n",
       "      <td>174566.000000</td>\n",
       "      <td>174567.000000</td>\n",
       "      <td>174567.000000</td>\n",
       "      <td>174567.000000</td>\n",
       "    </tr>\n",
       "    <tr>\n",
       "      <th>mean</th>\n",
       "      <td>38.627312</td>\n",
       "      <td>-92.679009</td>\n",
       "      <td>3.632196</td>\n",
       "      <td>30.137059</td>\n",
       "      <td>0.840376</td>\n",
       "    </tr>\n",
       "    <tr>\n",
       "      <th>std</th>\n",
       "      <td>5.389012</td>\n",
       "      <td>26.240079</td>\n",
       "      <td>1.003739</td>\n",
       "      <td>98.208174</td>\n",
       "      <td>0.366258</td>\n",
       "    </tr>\n",
       "    <tr>\n",
       "      <th>min</th>\n",
       "      <td>-36.086009</td>\n",
       "      <td>-142.466650</td>\n",
       "      <td>1.000000</td>\n",
       "      <td>3.000000</td>\n",
       "      <td>0.000000</td>\n",
       "    </tr>\n",
       "    <tr>\n",
       "      <th>25%</th>\n",
       "      <td>33.631550</td>\n",
       "      <td>-112.125879</td>\n",
       "      <td>3.000000</td>\n",
       "      <td>4.000000</td>\n",
       "      <td>1.000000</td>\n",
       "    </tr>\n",
       "    <tr>\n",
       "      <th>50%</th>\n",
       "      <td>36.144257</td>\n",
       "      <td>-89.410128</td>\n",
       "      <td>3.500000</td>\n",
       "      <td>8.000000</td>\n",
       "      <td>1.000000</td>\n",
       "    </tr>\n",
       "    <tr>\n",
       "      <th>75%</th>\n",
       "      <td>43.606181</td>\n",
       "      <td>-79.657609</td>\n",
       "      <td>4.500000</td>\n",
       "      <td>23.000000</td>\n",
       "      <td>1.000000</td>\n",
       "    </tr>\n",
       "    <tr>\n",
       "      <th>max</th>\n",
       "      <td>89.999314</td>\n",
       "      <td>115.086769</td>\n",
       "      <td>5.000000</td>\n",
       "      <td>7361.000000</td>\n",
       "      <td>1.000000</td>\n",
       "    </tr>\n",
       "  </tbody>\n",
       "</table>\n",
       "</div>"
      ],
      "text/plain": [
       "            latitude      longitude          stars   review_count  \\\n",
       "count  174566.000000  174566.000000  174567.000000  174567.000000   \n",
       "mean       38.627312     -92.679009       3.632196      30.137059   \n",
       "std         5.389012      26.240079       1.003739      98.208174   \n",
       "min       -36.086009    -142.466650       1.000000       3.000000   \n",
       "25%        33.631550    -112.125879       3.000000       4.000000   \n",
       "50%        36.144257     -89.410128       3.500000       8.000000   \n",
       "75%        43.606181     -79.657609       4.500000      23.000000   \n",
       "max        89.999314     115.086769       5.000000    7361.000000   \n",
       "\n",
       "             is_open  \n",
       "count  174567.000000  \n",
       "mean        0.840376  \n",
       "std         0.366258  \n",
       "min         0.000000  \n",
       "25%         1.000000  \n",
       "50%         1.000000  \n",
       "75%         1.000000  \n",
       "max         1.000000  "
      ]
     },
     "execution_count": 36,
     "metadata": {},
     "output_type": "execute_result"
    }
   ],
   "source": [
    "df.describe()"
   ]
  },
  {
   "cell_type": "code",
   "execution_count": 37,
   "id": "abb813b2",
   "metadata": {},
   "outputs": [
    {
     "data": {
      "text/plain": [
       "(174567, 12)"
      ]
     },
     "execution_count": 37,
     "metadata": {},
     "output_type": "execute_result"
    }
   ],
   "source": [
    "df.shape"
   ]
  },
  {
   "cell_type": "code",
   "execution_count": 38,
   "id": "7bdddd94",
   "metadata": {},
   "outputs": [],
   "source": [
    "## remove quotation marks in name and address column\n",
    "df.name=df.name.str.replace('\"','')\n",
    "df.address=df.address.str.replace('\"','')"
   ]
  },
  {
   "cell_type": "code",
   "execution_count": 64,
   "id": "e49e7def",
   "metadata": {
    "scrolled": true
   },
   "outputs": [
    {
     "data": {
      "text/plain": [
       "array(['RCC'], dtype=object)"
      ]
     },
     "execution_count": 64,
     "metadata": {},
     "output_type": "execute_result"
    }
   ],
   "source": [
    "df.state.unique()"
   ]
  },
  {
   "cell_type": "code",
   "execution_count": 63,
   "id": "7f15f23f",
   "metadata": {},
   "outputs": [
    {
     "data": {
      "text/html": [
       "<div>\n",
       "<style scoped>\n",
       "    .dataframe tbody tr th:only-of-type {\n",
       "        vertical-align: middle;\n",
       "    }\n",
       "\n",
       "    .dataframe tbody tr th {\n",
       "        vertical-align: top;\n",
       "    }\n",
       "\n",
       "    .dataframe thead th {\n",
       "        text-align: right;\n",
       "    }\n",
       "</style>\n",
       "<table border=\"1\" class=\"dataframe\">\n",
       "  <thead>\n",
       "    <tr style=\"text-align: right;\">\n",
       "      <th></th>\n",
       "      <th>business_id</th>\n",
       "      <th>name</th>\n",
       "      <th>address</th>\n",
       "      <th>city</th>\n",
       "      <th>state</th>\n",
       "      <th>postal_code</th>\n",
       "      <th>latitude</th>\n",
       "      <th>longitude</th>\n",
       "      <th>stars</th>\n",
       "      <th>review_count</th>\n",
       "      <th>is_open</th>\n",
       "      <th>categories</th>\n",
       "    </tr>\n",
       "  </thead>\n",
       "  <tbody>\n",
       "    <tr>\n",
       "      <th>0</th>\n",
       "      <td>FYWN1wneV18bWNgQjJ2GNg</td>\n",
       "      <td>Dental by Design</td>\n",
       "      <td>4855 E Warner Rd, Ste B9</td>\n",
       "      <td>Ahwatukee</td>\n",
       "      <td>RCC</td>\n",
       "      <td>85044</td>\n",
       "      <td>33.330690</td>\n",
       "      <td>-111.978599</td>\n",
       "      <td>4.0</td>\n",
       "      <td>22</td>\n",
       "      <td>1</td>\n",
       "      <td>Dentists;General Dentistry;Health &amp; Medical;Or...</td>\n",
       "    </tr>\n",
       "    <tr>\n",
       "      <th>1</th>\n",
       "      <td>He-G7vWjzVUysIKrfNbPUQ</td>\n",
       "      <td>Stephen Szabo Salon</td>\n",
       "      <td>3101 Washington Rd</td>\n",
       "      <td>McMurray</td>\n",
       "      <td>RCC</td>\n",
       "      <td>15317</td>\n",
       "      <td>40.291685</td>\n",
       "      <td>-80.104900</td>\n",
       "      <td>3.0</td>\n",
       "      <td>11</td>\n",
       "      <td>1</td>\n",
       "      <td>Hair Stylists;Hair Salons;Men's Hair Salons;Bl...</td>\n",
       "    </tr>\n",
       "    <tr>\n",
       "      <th>2</th>\n",
       "      <td>KQPW8lFf1y5BT2MxiSZ3QA</td>\n",
       "      <td>Western Motor Vehicle</td>\n",
       "      <td>6025 N 27th Ave, Ste 1</td>\n",
       "      <td>Phoenix</td>\n",
       "      <td>RCC</td>\n",
       "      <td>85017</td>\n",
       "      <td>33.524903</td>\n",
       "      <td>-112.115310</td>\n",
       "      <td>1.5</td>\n",
       "      <td>18</td>\n",
       "      <td>1</td>\n",
       "      <td>Departments of Motor Vehicles;Public Services ...</td>\n",
       "    </tr>\n",
       "    <tr>\n",
       "      <th>3</th>\n",
       "      <td>8DShNS-LuFqpEWIp0HxijA</td>\n",
       "      <td>Sports Authority</td>\n",
       "      <td>5000 Arizona Mills Cr, Ste 435</td>\n",
       "      <td>Tempe</td>\n",
       "      <td>RCC</td>\n",
       "      <td>85282</td>\n",
       "      <td>33.383147</td>\n",
       "      <td>-111.964725</td>\n",
       "      <td>3.0</td>\n",
       "      <td>9</td>\n",
       "      <td>0</td>\n",
       "      <td>Sporting Goods;Shopping</td>\n",
       "    </tr>\n",
       "    <tr>\n",
       "      <th>4</th>\n",
       "      <td>PfOCPjBrlQAnz__NXj9h_w</td>\n",
       "      <td>Brick House Tavern + Tap</td>\n",
       "      <td>581 Howe Ave</td>\n",
       "      <td>Cuyahoga Falls</td>\n",
       "      <td>RCC</td>\n",
       "      <td>44221</td>\n",
       "      <td>41.119535</td>\n",
       "      <td>-81.475690</td>\n",
       "      <td>3.5</td>\n",
       "      <td>116</td>\n",
       "      <td>1</td>\n",
       "      <td>American (New);Nightlife;Bars;Sandwiches;Ameri...</td>\n",
       "    </tr>\n",
       "    <tr>\n",
       "      <th>...</th>\n",
       "      <td>...</td>\n",
       "      <td>...</td>\n",
       "      <td>...</td>\n",
       "      <td>...</td>\n",
       "      <td>...</td>\n",
       "      <td>...</td>\n",
       "      <td>...</td>\n",
       "      <td>...</td>\n",
       "      <td>...</td>\n",
       "      <td>...</td>\n",
       "      <td>...</td>\n",
       "      <td>...</td>\n",
       "    </tr>\n",
       "    <tr>\n",
       "      <th>174562</th>\n",
       "      <td>ALV5R8NkZ1KGOZeuZl3u0A</td>\n",
       "      <td>Whitby Toyota</td>\n",
       "      <td>1025 Dundas Street W</td>\n",
       "      <td>Whitby</td>\n",
       "      <td>RCC</td>\n",
       "      <td>L1P 1Z1</td>\n",
       "      <td>43.873460</td>\n",
       "      <td>-78.968033</td>\n",
       "      <td>4.0</td>\n",
       "      <td>4</td>\n",
       "      <td>1</td>\n",
       "      <td>Car Dealers;Automotive</td>\n",
       "    </tr>\n",
       "    <tr>\n",
       "      <th>174563</th>\n",
       "      <td>gRGalHVu6BcaUDIAGVW_xQ</td>\n",
       "      <td>Village Auto Body</td>\n",
       "      <td>3957 Brecksville Rd</td>\n",
       "      <td>Richfield</td>\n",
       "      <td>RCC</td>\n",
       "      <td>44286</td>\n",
       "      <td>41.243385</td>\n",
       "      <td>-81.636212</td>\n",
       "      <td>5.0</td>\n",
       "      <td>3</td>\n",
       "      <td>1</td>\n",
       "      <td>Body Shops;Automotive</td>\n",
       "    </tr>\n",
       "    <tr>\n",
       "      <th>174564</th>\n",
       "      <td>XXvZBIHoJBU5d6-a-oyMWQ</td>\n",
       "      <td>AAM</td>\n",
       "      <td>1600 W Broadway Rd, Ste 200</td>\n",
       "      <td>Tempe</td>\n",
       "      <td>RCC</td>\n",
       "      <td>85282</td>\n",
       "      <td>33.407914</td>\n",
       "      <td>-111.965098</td>\n",
       "      <td>1.5</td>\n",
       "      <td>19</td>\n",
       "      <td>1</td>\n",
       "      <td>Home Services;Property Management;Real Estate</td>\n",
       "    </tr>\n",
       "    <tr>\n",
       "      <th>174565</th>\n",
       "      <td>lNpPGgM96nPIYM1shxciHg</td>\n",
       "      <td>Bronze Beauty Spray Tanning</td>\n",
       "      <td>300 Camp Horne Rd, Ste 250</td>\n",
       "      <td>Pittsburgh</td>\n",
       "      <td>RCC</td>\n",
       "      <td>15202</td>\n",
       "      <td>40.517724</td>\n",
       "      <td>-80.091466</td>\n",
       "      <td>5.0</td>\n",
       "      <td>14</td>\n",
       "      <td>1</td>\n",
       "      <td>Spray Tanning;Tanning;Beauty &amp; Spas</td>\n",
       "    </tr>\n",
       "    <tr>\n",
       "      <th>174566</th>\n",
       "      <td>viKaP26BcHU6cLx8sf4gKg</td>\n",
       "      <td>Phoenix Pharmacy</td>\n",
       "      <td>1701 East Thomas Rd, Ste 105</td>\n",
       "      <td>Phoenix</td>\n",
       "      <td>RCC</td>\n",
       "      <td>85016</td>\n",
       "      <td>33.479861</td>\n",
       "      <td>-112.044689</td>\n",
       "      <td>5.0</td>\n",
       "      <td>4</td>\n",
       "      <td>1</td>\n",
       "      <td>Drugstores;Shopping;Health &amp; Medical</td>\n",
       "    </tr>\n",
       "  </tbody>\n",
       "</table>\n",
       "<p>174567 rows × 12 columns</p>\n",
       "</div>"
      ],
      "text/plain": [
       "                   business_id                         name  \\\n",
       "0       FYWN1wneV18bWNgQjJ2GNg             Dental by Design   \n",
       "1       He-G7vWjzVUysIKrfNbPUQ          Stephen Szabo Salon   \n",
       "2       KQPW8lFf1y5BT2MxiSZ3QA        Western Motor Vehicle   \n",
       "3       8DShNS-LuFqpEWIp0HxijA             Sports Authority   \n",
       "4       PfOCPjBrlQAnz__NXj9h_w     Brick House Tavern + Tap   \n",
       "...                        ...                          ...   \n",
       "174562  ALV5R8NkZ1KGOZeuZl3u0A                Whitby Toyota   \n",
       "174563  gRGalHVu6BcaUDIAGVW_xQ            Village Auto Body   \n",
       "174564  XXvZBIHoJBU5d6-a-oyMWQ                          AAM   \n",
       "174565  lNpPGgM96nPIYM1shxciHg  Bronze Beauty Spray Tanning   \n",
       "174566  viKaP26BcHU6cLx8sf4gKg             Phoenix Pharmacy   \n",
       "\n",
       "                               address            city state postal_code  \\\n",
       "0             4855 E Warner Rd, Ste B9       Ahwatukee   RCC       85044   \n",
       "1                   3101 Washington Rd        McMurray   RCC       15317   \n",
       "2               6025 N 27th Ave, Ste 1         Phoenix   RCC       85017   \n",
       "3       5000 Arizona Mills Cr, Ste 435           Tempe   RCC       85282   \n",
       "4                         581 Howe Ave  Cuyahoga Falls   RCC       44221   \n",
       "...                                ...             ...   ...         ...   \n",
       "174562            1025 Dundas Street W          Whitby   RCC     L1P 1Z1   \n",
       "174563             3957 Brecksville Rd       Richfield   RCC       44286   \n",
       "174564     1600 W Broadway Rd, Ste 200           Tempe   RCC       85282   \n",
       "174565      300 Camp Horne Rd, Ste 250      Pittsburgh   RCC       15202   \n",
       "174566    1701 East Thomas Rd, Ste 105         Phoenix   RCC       85016   \n",
       "\n",
       "         latitude   longitude  stars  review_count  is_open  \\\n",
       "0       33.330690 -111.978599    4.0            22        1   \n",
       "1       40.291685  -80.104900    3.0            11        1   \n",
       "2       33.524903 -112.115310    1.5            18        1   \n",
       "3       33.383147 -111.964725    3.0             9        0   \n",
       "4       41.119535  -81.475690    3.5           116        1   \n",
       "...           ...         ...    ...           ...      ...   \n",
       "174562  43.873460  -78.968033    4.0             4        1   \n",
       "174563  41.243385  -81.636212    5.0             3        1   \n",
       "174564  33.407914 -111.965098    1.5            19        1   \n",
       "174565  40.517724  -80.091466    5.0            14        1   \n",
       "174566  33.479861 -112.044689    5.0             4        1   \n",
       "\n",
       "                                               categories  \n",
       "0       Dentists;General Dentistry;Health & Medical;Or...  \n",
       "1       Hair Stylists;Hair Salons;Men's Hair Salons;Bl...  \n",
       "2       Departments of Motor Vehicles;Public Services ...  \n",
       "3                                 Sporting Goods;Shopping  \n",
       "4       American (New);Nightlife;Bars;Sandwiches;Ameri...  \n",
       "...                                                   ...  \n",
       "174562                             Car Dealers;Automotive  \n",
       "174563                              Body Shops;Automotive  \n",
       "174564      Home Services;Property Management;Real Estate  \n",
       "174565                Spray Tanning;Tanning;Beauty & Spas  \n",
       "174566               Drugstores;Shopping;Health & Medical  \n",
       "\n",
       "[174567 rows x 12 columns]"
      ]
     },
     "execution_count": 63,
     "metadata": {},
     "output_type": "execute_result"
    }
   ],
   "source": [
    "df.loc[df.state.isin(['ZET','RCC'])]"
   ]
  },
  {
   "cell_type": "code",
   "execution_count": 50,
   "id": "a1df5276",
   "metadata": {},
   "outputs": [
    {
     "ename": "SyntaxError",
     "evalue": "invalid syntax (Temp/ipykernel_11716/2286626210.py, line 1)",
     "output_type": "error",
     "traceback": [
      "\u001b[1;36m  File \u001b[1;32m\"C:\\Users\\RKGOD\\AppData\\Local\\Temp/ipykernel_11716/2286626210.py\"\u001b[1;36m, line \u001b[1;32m1\u001b[0m\n\u001b[1;33m    df.loc[df[(df.state = 'RCC','state']\u001b[0m\n\u001b[1;37m                        ^\u001b[0m\n\u001b[1;31mSyntaxError\u001b[0m\u001b[1;31m:\u001b[0m invalid syntax\n"
     ]
    }
   ],
   "source": [
    "df.loc[df[(df.state = 'RCC','state']"
   ]
  },
  {
   "cell_type": "code",
   "execution_count": null,
   "id": "d07548cc",
   "metadata": {},
   "outputs": [],
   "source": [
    "df = df.drop(df[(df.state = '3', ) & (df.score > 20)].index)"
   ]
  },
  {
   "cell_type": "code",
   "execution_count": null,
   "id": "cae9d77c",
   "metadata": {},
   "outputs": [],
   "source": []
  },
  {
   "cell_type": "code",
   "execution_count": null,
   "id": "804fdebe",
   "metadata": {},
   "outputs": [],
   "source": []
  },
  {
   "cell_type": "code",
   "execution_count": null,
   "id": "1f17f85e",
   "metadata": {},
   "outputs": [],
   "source": []
  },
  {
   "cell_type": "code",
   "execution_count": null,
   "id": "76b587ac",
   "metadata": {},
   "outputs": [],
   "source": []
  },
  {
   "cell_type": "code",
   "execution_count": null,
   "id": "a0c4da09",
   "metadata": {},
   "outputs": [],
   "source": []
  },
  {
   "cell_type": "code",
   "execution_count": 39,
   "id": "acdb8db5",
   "metadata": {},
   "outputs": [
    {
     "data": {
      "text/plain": [
       "pandas.core.frame.DataFrame"
      ]
     },
     "execution_count": 39,
     "metadata": {},
     "output_type": "execute_result"
    }
   ],
   "source": [
    "type(df)"
   ]
  },
  {
   "cell_type": "code",
   "execution_count": 40,
   "id": "358451cb",
   "metadata": {},
   "outputs": [
    {
     "data": {
      "text/plain": [
       "67"
      ]
     },
     "execution_count": 40,
     "metadata": {},
     "output_type": "execute_result"
    }
   ],
   "source": [
    "df['state'].nunique()"
   ]
  },
  {
   "cell_type": "code",
   "execution_count": 41,
   "id": "4982d640",
   "metadata": {},
   "outputs": [
    {
     "ename": "TypeError",
     "evalue": "'NoneType' object is not subscriptable",
     "output_type": "error",
     "traceback": [
      "\u001b[1;31m---------------------------------------------------------------------------\u001b[0m",
      "\u001b[1;31mTypeError\u001b[0m                                 Traceback (most recent call last)",
      "\u001b[1;32m~\\AppData\\Local\\Temp/ipykernel_11716/3574202581.py\u001b[0m in \u001b[0;36m<module>\u001b[1;34m\u001b[0m\n\u001b[1;32m----> 1\u001b[1;33m \u001b[0mb\u001b[0m\u001b[1;33m[\u001b[0m\u001b[1;34m'state'\u001b[0m\u001b[1;33m]\u001b[0m\u001b[1;33m.\u001b[0m\u001b[0mvalue_counts\u001b[0m\u001b[1;33m(\u001b[0m\u001b[1;33m)\u001b[0m\u001b[1;33m\u001b[0m\u001b[1;33m\u001b[0m\u001b[0m\n\u001b[0m",
      "\u001b[1;31mTypeError\u001b[0m: 'NoneType' object is not subscriptable"
     ]
    }
   ],
   "source": [
    "b['state'].value_counts()\n"
   ]
  },
  {
   "cell_type": "code",
   "execution_count": 43,
   "id": "27e5c027",
   "metadata": {
    "scrolled": true
   },
   "outputs": [
    {
     "data": {
      "text/plain": [
       "array(['AZ', 'PA', 'OH', 'BW', 'NV', 'ON', 'NC', 'WI', 'SC', 'QC', 'IL',\n",
       "       'MLN', 'EDH', 'FIF', 'CHE', 'CO', 'NYK', 'NE', 'HLD', 'WLN', 'ABE',\n",
       "       'WA', 'SCB', 'KHL', 'ESX', 'CMA', 'FAL', 'ELN', 'NY', 'PKN', 'ST',\n",
       "       '01', 'CA', 'NLK', 'GLG', 'C', 'VS', 'IN', 'XGL', 'AL', 'STG',\n",
       "       'VT', 'CS', '30', 'AR', 'SL', 'NI', 'BY', 'AK', 'FLN', nan, 'FL',\n",
       "       'MN', '6', 'NTH', 'MT', 'B', 'GA', 'VA', 'DE', 'AB', 'HU', 'KY',\n",
       "       '3', 'TAM', 'ZET', 'RCC', 'WHT'], dtype=object)"
      ]
     },
     "execution_count": 43,
     "metadata": {},
     "output_type": "execute_result"
    }
   ],
   "source": [
    "df.state.unique()"
   ]
  },
  {
   "cell_type": "code",
   "execution_count": null,
   "id": "e7583e1e",
   "metadata": {},
   "outputs": [],
   "source": [
    "b.loc[:,\"state\"]"
   ]
  },
  {
   "cell_type": "code",
   "execution_count": null,
   "id": "2888f672",
   "metadata": {},
   "outputs": [],
   "source": [
    "b.count()"
   ]
  },
  {
   "cell_type": "code",
   "execution_count": null,
   "id": "6c60aceb",
   "metadata": {},
   "outputs": [],
   "source": [
    "b.index"
   ]
  },
  {
   "cell_type": "code",
   "execution_count": null,
   "id": "a7a76c6b",
   "metadata": {},
   "outputs": [],
   "source": [
    "b.groupby(level=1)"
   ]
  },
  {
   "cell_type": "code",
   "execution_count": null,
   "id": "027349db",
   "metadata": {},
   "outputs": [],
   "source": []
  }
 ],
 "metadata": {
  "kernelspec": {
   "display_name": "Python 3 (ipykernel)",
   "language": "python",
   "name": "python3"
  },
  "language_info": {
   "codemirror_mode": {
    "name": "ipython",
    "version": 3
   },
   "file_extension": ".py",
   "mimetype": "text/x-python",
   "name": "python",
   "nbconvert_exporter": "python",
   "pygments_lexer": "ipython3",
   "version": "3.9.7"
  }
 },
 "nbformat": 4,
 "nbformat_minor": 5
}
